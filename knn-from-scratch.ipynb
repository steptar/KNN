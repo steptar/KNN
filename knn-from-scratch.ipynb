{
 "cells": [
  {
   "cell_type": "markdown",
   "id": "e8b209d3",
   "metadata": {},
   "source": [
    "### KNN from Scratch: How to Use\n",
    "This notebook documents how to use the knn algorithm in this file from the knn.py file in this directory."
   ]
  },
  {
   "cell_type": "code",
   "execution_count": 1,
   "id": "c17a1e39",
   "metadata": {},
   "outputs": [],
   "source": [
    "import pandas as pd\n",
    "import numpy as np"
   ]
  },
  {
   "cell_type": "markdown",
   "id": "4771227a",
   "metadata": {},
   "source": [
    "Firstly, we need a training dataframe and a testing dataframe to peform the knn algorithm on. The dataframes are imported relate atomic radii to atomic class"
   ]
  },
  {
   "cell_type": "code",
   "execution_count": 2,
   "id": "b948bd15",
   "metadata": {},
   "outputs": [
    {
     "name": "stdout",
     "output_type": "stream",
     "text": [
      "Index(['rWC', 'rCh', 'Atom', 'Type'], dtype='object')\n"
     ]
    },
    {
     "data": {
      "text/html": [
       "<div>\n",
       "<style scoped>\n",
       "    .dataframe tbody tr th:only-of-type {\n",
       "        vertical-align: middle;\n",
       "    }\n",
       "\n",
       "    .dataframe tbody tr th {\n",
       "        vertical-align: top;\n",
       "    }\n",
       "\n",
       "    .dataframe thead th {\n",
       "        text-align: right;\n",
       "    }\n",
       "</style>\n",
       "<table border=\"1\" class=\"dataframe\">\n",
       "  <thead>\n",
       "    <tr style=\"text-align: right;\">\n",
       "      <th></th>\n",
       "      <th>rWC</th>\n",
       "      <th>rCh</th>\n",
       "      <th>Atom</th>\n",
       "      <th>Type</th>\n",
       "    </tr>\n",
       "  </thead>\n",
       "  <tbody>\n",
       "    <tr>\n",
       "      <th>0</th>\n",
       "      <td>0.78</td>\n",
       "      <td>0.50</td>\n",
       "      <td>B</td>\n",
       "      <td>PT</td>\n",
       "    </tr>\n",
       "    <tr>\n",
       "      <th>1</th>\n",
       "      <td>0.90</td>\n",
       "      <td>0.67</td>\n",
       "      <td>Si</td>\n",
       "      <td>PT</td>\n",
       "    </tr>\n",
       "    <tr>\n",
       "      <th>2</th>\n",
       "      <td>0.97</td>\n",
       "      <td>0.65</td>\n",
       "      <td>Ga</td>\n",
       "      <td>PT</td>\n",
       "    </tr>\n",
       "    <tr>\n",
       "      <th>3</th>\n",
       "      <td>1.04</td>\n",
       "      <td>0.76</td>\n",
       "      <td>Al</td>\n",
       "      <td>PT</td>\n",
       "    </tr>\n",
       "    <tr>\n",
       "      <th>4</th>\n",
       "      <td>1.10</td>\n",
       "      <td>0.79</td>\n",
       "      <td>Ir</td>\n",
       "      <td>PT</td>\n",
       "    </tr>\n",
       "    <tr>\n",
       "      <th>5</th>\n",
       "      <td>0.32</td>\n",
       "      <td>0.62</td>\n",
       "      <td>Zn</td>\n",
       "      <td>TM</td>\n",
       "    </tr>\n",
       "    <tr>\n",
       "      <th>6</th>\n",
       "      <td>0.45</td>\n",
       "      <td>0.68</td>\n",
       "      <td>Cd</td>\n",
       "      <td>TM</td>\n",
       "    </tr>\n",
       "    <tr>\n",
       "      <th>7</th>\n",
       "      <td>0.14</td>\n",
       "      <td>0.66</td>\n",
       "      <td>Be</td>\n",
       "      <td>Alk</td>\n",
       "    </tr>\n",
       "    <tr>\n",
       "      <th>8</th>\n",
       "      <td>0.25</td>\n",
       "      <td>0.87</td>\n",
       "      <td>Mg</td>\n",
       "      <td>Alk</td>\n",
       "    </tr>\n",
       "    <tr>\n",
       "      <th>9</th>\n",
       "      <td>0.19</td>\n",
       "      <td>0.99</td>\n",
       "      <td>Li</td>\n",
       "      <td>Alk</td>\n",
       "    </tr>\n",
       "    <tr>\n",
       "      <th>10</th>\n",
       "      <td>0.28</td>\n",
       "      <td>1.01</td>\n",
       "      <td>Na</td>\n",
       "      <td>Alk</td>\n",
       "    </tr>\n",
       "    <tr>\n",
       "      <th>11</th>\n",
       "      <td>0.54</td>\n",
       "      <td>1.23</td>\n",
       "      <td>Ca</td>\n",
       "      <td>Alk</td>\n",
       "    </tr>\n",
       "    <tr>\n",
       "      <th>12</th>\n",
       "      <td>0.59</td>\n",
       "      <td>1.34</td>\n",
       "      <td>K</td>\n",
       "      <td>Alk</td>\n",
       "    </tr>\n",
       "    <tr>\n",
       "      <th>13</th>\n",
       "      <td>0.69</td>\n",
       "      <td>1.36</td>\n",
       "      <td>Sr</td>\n",
       "      <td>Alk</td>\n",
       "    </tr>\n",
       "    <tr>\n",
       "      <th>14</th>\n",
       "      <td>0.74</td>\n",
       "      <td>1.45</td>\n",
       "      <td>Rb</td>\n",
       "      <td>Alk</td>\n",
       "    </tr>\n",
       "  </tbody>\n",
       "</table>\n",
       "</div>"
      ],
      "text/plain": [
       "     rWC   rCh Atom Type\n",
       "0   0.78  0.50    B   PT\n",
       "1   0.90  0.67   Si   PT\n",
       "2   0.97  0.65   Ga   PT\n",
       "3   1.04  0.76   Al   PT\n",
       "4   1.10  0.79   Ir   PT\n",
       "5   0.32  0.62   Zn   TM\n",
       "6   0.45  0.68   Cd   TM\n",
       "7   0.14  0.66   Be  Alk\n",
       "8   0.25  0.87   Mg  Alk\n",
       "9   0.19  0.99   Li  Alk\n",
       "10  0.28  1.01   Na  Alk\n",
       "11  0.54  1.23   Ca  Alk\n",
       "12  0.59  1.34    K  Alk\n",
       "13  0.69  1.36   Sr  Alk\n",
       "14  0.74  1.45   Rb  Alk"
      ]
     },
     "execution_count": 2,
     "metadata": {},
     "output_type": "execute_result"
    }
   ],
   "source": [
    "df = pd.read_csv('https://uwdirect.github.io/SEDS_content/atomradii.csv')\n",
    "print(df.keys())\n",
    "df"
   ]
  },
  {
   "cell_type": "code",
   "execution_count": 3,
   "id": "364cb481",
   "metadata": {},
   "outputs": [
    {
     "data": {
      "text/html": [
       "<div>\n",
       "<style scoped>\n",
       "    .dataframe tbody tr th:only-of-type {\n",
       "        vertical-align: middle;\n",
       "    }\n",
       "\n",
       "    .dataframe tbody tr th {\n",
       "        vertical-align: top;\n",
       "    }\n",
       "\n",
       "    .dataframe thead th {\n",
       "        text-align: right;\n",
       "    }\n",
       "</style>\n",
       "<table border=\"1\" class=\"dataframe\">\n",
       "  <thead>\n",
       "    <tr style=\"text-align: right;\">\n",
       "      <th></th>\n",
       "      <th>rWC</th>\n",
       "      <th>rCh</th>\n",
       "      <th>Atom</th>\n",
       "      <th>Type</th>\n",
       "    </tr>\n",
       "  </thead>\n",
       "  <tbody>\n",
       "    <tr>\n",
       "      <th>0</th>\n",
       "      <td>0.51</td>\n",
       "      <td>1.12</td>\n",
       "      <td>X1</td>\n",
       "      <td>Alk</td>\n",
       "    </tr>\n",
       "    <tr>\n",
       "      <th>1</th>\n",
       "      <td>0.37</td>\n",
       "      <td>0.77</td>\n",
       "      <td>X2</td>\n",
       "      <td>TM</td>\n",
       "    </tr>\n",
       "    <tr>\n",
       "      <th>2</th>\n",
       "      <td>0.62</td>\n",
       "      <td>0.35</td>\n",
       "      <td>X3</td>\n",
       "      <td>PT</td>\n",
       "    </tr>\n",
       "    <tr>\n",
       "      <th>3</th>\n",
       "      <td>0.62</td>\n",
       "      <td>0.62</td>\n",
       "      <td>X4</td>\n",
       "      <td>TM</td>\n",
       "    </tr>\n",
       "    <tr>\n",
       "      <th>4</th>\n",
       "      <td>0.62</td>\n",
       "      <td>0.93</td>\n",
       "      <td>X5</td>\n",
       "      <td>Alk</td>\n",
       "    </tr>\n",
       "  </tbody>\n",
       "</table>\n",
       "</div>"
      ],
      "text/plain": [
       "    rWC   rCh Atom Type\n",
       "0  0.51  1.12   X1  Alk\n",
       "1  0.37  0.77   X2   TM\n",
       "2  0.62  0.35   X3   PT\n",
       "3  0.62  0.62   X4   TM\n",
       "4  0.62  0.93   X5  Alk"
      ]
     },
     "execution_count": 3,
     "metadata": {},
     "output_type": "execute_result"
    }
   ],
   "source": [
    "df_test = pd.read_csv('https://uwdirect.github.io/SEDS_content/testing.csv')\n",
    "df_test"
   ]
  },
  {
   "cell_type": "markdown",
   "id": "4a571cd8",
   "metadata": {},
   "source": [
    "Next, the module to perform the knn algorithm and its functions needs to be imported. It takes a dataframe, number of nearest neighbors, and a test datframe and returns a predicition of y values based on the x values in the test dataframe. In this function, it's important to note that the algorithm assumes the first two columns of the dataframe are the x parameters and that the last column is the target y vector.\n",
    "\n",
    "The 'knn_wrap' function is main function the user interacts with. It is only necessary to import this one function to perform the algorithm. There are other functions in the knn.py file but since they are imbedded in knn_wrap they do not need to be imported individually. \n",
    "\n",
    "For reference these functions include: a function to calculate the euclidean distance between rows, a function that sorts the rows per number of nearest neighbors, a function that makes predictions on the based on the list, and a function break ties. See the docstrings in the knn.py file for more information.\n",
    "\n",
    "The knn.py file also includes a function called k_selection which takes a training and test datframe along with a list of k values and will output the optimal k value for the dataset. This should be imported seperately if the user wants to use this."
   ]
  },
  {
   "cell_type": "code",
   "execution_count": 4,
   "id": "ec6b8dca",
   "metadata": {},
   "outputs": [],
   "source": [
    "import knn\n",
    "from knn import knn_wrap\n",
    "from knn import k_selection"
   ]
  },
  {
   "cell_type": "code",
   "execution_count": 5,
   "id": "590f9746",
   "metadata": {},
   "outputs": [
    {
     "data": {
      "text/html": [
       "<div>\n",
       "<style scoped>\n",
       "    .dataframe tbody tr th:only-of-type {\n",
       "        vertical-align: middle;\n",
       "    }\n",
       "\n",
       "    .dataframe tbody tr th {\n",
       "        vertical-align: top;\n",
       "    }\n",
       "\n",
       "    .dataframe thead th {\n",
       "        text-align: right;\n",
       "    }\n",
       "</style>\n",
       "<table border=\"1\" class=\"dataframe\">\n",
       "  <thead>\n",
       "    <tr style=\"text-align: right;\">\n",
       "      <th></th>\n",
       "      <th>0</th>\n",
       "    </tr>\n",
       "  </thead>\n",
       "  <tbody>\n",
       "    <tr>\n",
       "      <th>0</th>\n",
       "      <td>Alk</td>\n",
       "    </tr>\n",
       "    <tr>\n",
       "      <th>1</th>\n",
       "      <td>TM</td>\n",
       "    </tr>\n",
       "    <tr>\n",
       "      <th>2</th>\n",
       "      <td>PT</td>\n",
       "    </tr>\n",
       "    <tr>\n",
       "      <th>3</th>\n",
       "      <td>TM</td>\n",
       "    </tr>\n",
       "    <tr>\n",
       "      <th>4</th>\n",
       "      <td>Alk</td>\n",
       "    </tr>\n",
       "  </tbody>\n",
       "</table>\n",
       "</div>"
      ],
      "text/plain": [
       "     0\n",
       "0  Alk\n",
       "1   TM\n",
       "2   PT\n",
       "3   TM\n",
       "4  Alk"
      ]
     },
     "execution_count": 5,
     "metadata": {},
     "output_type": "execute_result"
    }
   ],
   "source": [
    "#making a prediction on df\n",
    "knn_wrap(df, 4, df_test)"
   ]
  },
  {
   "cell_type": "code",
   "execution_count": 44,
   "id": "e0d96f2f",
   "metadata": {},
   "outputs": [
    {
     "name": "stdout",
     "output_type": "stream",
     "text": [
      "The optimal k value for this dataset from the list provided is:  {4}\n"
     ]
    },
    {
     "data": {
      "text/plain": [
       "{2: 0.8, 3: 0.6, 4: 1.0, 5: 0.6}"
      ]
     },
     "execution_count": 44,
     "metadata": {},
     "output_type": "execute_result"
    }
   ],
   "source": [
    "#getting the optimum k value\n",
    "k_selection(df, df_test, [2 ,3 ,4, 5])"
   ]
  },
  {
   "cell_type": "code",
   "execution_count": null,
   "id": "259422fc",
   "metadata": {},
   "outputs": [],
   "source": []
  }
 ],
 "metadata": {
  "kernelspec": {
   "display_name": "Python 3 (ipykernel)",
   "language": "python",
   "name": "python3"
  },
  "language_info": {
   "codemirror_mode": {
    "name": "ipython",
    "version": 3
   },
   "file_extension": ".py",
   "mimetype": "text/x-python",
   "name": "python",
   "nbconvert_exporter": "python",
   "pygments_lexer": "ipython3",
   "version": "3.9.5"
  }
 },
 "nbformat": 4,
 "nbformat_minor": 5
}
